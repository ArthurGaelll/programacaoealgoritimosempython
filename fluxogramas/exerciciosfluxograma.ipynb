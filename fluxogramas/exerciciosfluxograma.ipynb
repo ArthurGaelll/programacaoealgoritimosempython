{
  "nbformat": 4,
  "nbformat_minor": 0,
  "metadata": {
    "colab": {
      "provenance": [],
      "authorship_tag": "ABX9TyMlb4p5GCEKQV0S6qc5Uby/",
      "include_colab_link": true
    },
    "kernelspec": {
      "name": "python3",
      "display_name": "Python 3"
    },
    "language_info": {
      "name": "python"
    }
  },
  "cells": [
    {
      "cell_type": "markdown",
      "metadata": {
        "id": "view-in-github",
        "colab_type": "text"
      },
      "source": [
        "<a href=\"https://colab.research.google.com/github/ArthurGaelll/programacaoealgoritimosempython/blob/main/fluxogramas/exerciciosfluxograma.ipynb\" target=\"_parent\"><img src=\"https://colab.research.google.com/assets/colab-badge.svg\" alt=\"Open In Colab\"/></a>"
      ]
    },
    {
      "cell_type": "markdown",
      "source": [
        "# exercicio dolar"
      ],
      "metadata": {
        "id": "4_pWafUtSw_e"
      }
    },
    {
      "cell_type": "code",
      "execution_count": 31,
      "metadata": {
        "id": "nBa9wAx3Sqga",
        "colab": {
          "base_uri": "https://localhost:8080/"
        },
        "outputId": "ba8d53f0-8891-43f8-aae2-a1a0c48d56e7"
      },
      "outputs": [
        {
          "name": "stdout",
          "output_type": "stream",
          "text": [
            "Digite a cotação do dolar hoje7.18\n",
            "Quanto você quer converter em dolar?99330\n"
          ]
        }
      ],
      "source": [
        "cotacao= float(input(\"Digite a cotação do dolar hoje\"))\n",
        "valor= float(input(\"Quanto você quer converter em dolar?\"))\n"
      ]
    },
    {
      "cell_type": "code",
      "source": [
        "convertido=valor/cotacao\n"
      ],
      "metadata": {
        "id": "Wx7boDtpWd6S"
      },
      "execution_count": 32,
      "outputs": []
    },
    {
      "cell_type": "code",
      "source": [
        "print(\"O valor convertido em dolar é: \",convertido)"
      ],
      "metadata": {
        "colab": {
          "base_uri": "https://localhost:8080/"
        },
        "id": "AqbVYcwCWov4",
        "outputId": "17161b88-f66d-47b1-e039-813566385fcb"
      },
      "execution_count": 33,
      "outputs": [
        {
          "output_type": "stream",
          "name": "stdout",
          "text": [
            "O valor convertido em dolar é:  13834.261838440112\n"
          ]
        }
      ]
    },
    {
      "cell_type": "markdown",
      "source": [
        "# quadrado dos numeros\n"
      ],
      "metadata": {
        "id": "RBeM01FWXSm5"
      }
    },
    {
      "cell_type": "code",
      "source": [
        "num1= float(input(\"Digite o primeiro valor: \"))\n",
        "num2= float(input(\"Digite o segundo valor: \"))\n",
        "num3= float(input(\"Digite o terceiro valor: \"))\n",
        "num4= float(input(\"Digite o quarto valor: \"))\n"
      ],
      "metadata": {
        "colab": {
          "base_uri": "https://localhost:8080/"
        },
        "id": "Ncy9ow2WXZUu",
        "outputId": "228d3a0c-8948-4da4-cf1e-a3330f40ceac"
      },
      "execution_count": 37,
      "outputs": [
        {
          "name": "stdout",
          "output_type": "stream",
          "text": [
            "Digite o primeiro valor: 45\n",
            "Digite o segundo valor: 7\n",
            "Digite o terceiro valor: 12\n",
            "Digite o quarto valor: 34\n"
          ]
        }
      ]
    },
    {
      "cell_type": "code",
      "source": [
        "somaquadrado=(num1*num1)+(num2*num2)+(num3*num3)+(num4*num4)"
      ],
      "metadata": {
        "id": "EAlyOseNYGx7"
      },
      "execution_count": 38,
      "outputs": []
    },
    {
      "cell_type": "code",
      "source": [
        "print(\"O valor do quadrado dos numeros é \", somaquadrado)"
      ],
      "metadata": {
        "colab": {
          "base_uri": "https://localhost:8080/"
        },
        "id": "SbC6JDpYYQLf",
        "outputId": "00ccac85-bafa-4c2e-a797-a1599d2a09a8"
      },
      "execution_count": 39,
      "outputs": [
        {
          "output_type": "stream",
          "name": "stdout",
          "text": [
            "O valor do quadrado dos numeros é  3374.0\n"
          ]
        }
      ]
    },
    {
      "cell_type": "markdown",
      "source": [
        "# comissão\n"
      ],
      "metadata": {
        "id": "_cVB5rj2aJCC"
      }
    },
    {
      "cell_type": "code",
      "source": [
        "precouni= float(input(\"Digite o preço do produto vendido: \"))\n",
        "quantidade= float(input(\"Digite a quantidade de produtos vendidos: \"))"
      ],
      "metadata": {
        "colab": {
          "base_uri": "https://localhost:8080/"
        },
        "id": "PD_m3d6vaNJY",
        "outputId": "c86df041-b0d1-4931-9c7e-ff3e1bc8635b"
      },
      "execution_count": 24,
      "outputs": [
        {
          "name": "stdout",
          "output_type": "stream",
          "text": [
            "Digite o preço do produto vendido: 2.5\n",
            "Digite a quantidade de produtos vendidos: 200\n"
          ]
        }
      ]
    },
    {
      "cell_type": "code",
      "source": [
        "totalvenda=precouni*quantidade"
      ],
      "metadata": {
        "id": "BuyRXZG2bAGn"
      },
      "execution_count": 25,
      "outputs": []
    },
    {
      "cell_type": "code",
      "source": [
        "comissao=(totalvenda*5)/100"
      ],
      "metadata": {
        "id": "eUdsTmRubtde"
      },
      "execution_count": 26,
      "outputs": []
    },
    {
      "cell_type": "code",
      "source": [
        "print(\"O valor total da venda é R$\",totalvenda,\" A comissão sobre esse valor é : R$\",comissao)"
      ],
      "metadata": {
        "colab": {
          "base_uri": "https://localhost:8080/"
        },
        "id": "Z_p_F3uQb-Ee",
        "outputId": "24a4d95c-0991-469c-a644-daa9bfe49fa5"
      },
      "execution_count": 30,
      "outputs": [
        {
          "output_type": "stream",
          "name": "stdout",
          "text": [
            "O valor total da venda é R$ 500.0  A comissão sobre esse valor é : R$ 25.0\n"
          ]
        }
      ]
    }
  ]
}